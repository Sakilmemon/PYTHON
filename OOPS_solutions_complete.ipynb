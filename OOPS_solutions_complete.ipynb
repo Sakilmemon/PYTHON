{
 "cells": [
  {
   "cell_type": "markdown",
   "id": "8bd8b9ac",
   "metadata": {},
   "source": [
    "# Object-Oriented Programming (OOP) — Complete Solutions\n",
    "\n",
    "This Jupyter Notebook contains detailed answers and Python code implementations for the questions from the uploaded PDF: **OOPS Question Paper.pdf**.filecite20:OOPS Question Paper.pdf"
   ]
  },
  {
   "cell_type": "markdown",
   "id": "e06188da",
   "metadata": {},
   "source": [
    "### What is Object-Oriented Programming (OOP)\n",
    "\n",
    "**Answer:**\n",
    "\n",
    "OOP is a programming paradigm based on the concept of objects that contain data (attributes) and behavior (methods). It promotes modularity, reusability, and abstraction.\n",
    "\n",
    "Example:\n",
    "```python\n",
    "class Car:\n",
    "    def __init__(self, brand):\n",
    "        self.brand = brand\n",
    "    def drive(self):\n",
    "        return f'{self.brand} is driving'\n",
    "\n",
    "c = Car('Tesla')\n",
    "print(c.drive())\n",
    "```"
   ]
  },
  {
   "cell_type": "markdown",
   "id": "bcf02aa6",
   "metadata": {},
   "source": [
    "### What is a class in OOP\n",
    "\n",
    "**Answer:**\n",
    "\n",
    "A class is a blueprint for creating objects. It defines attributes and methods that characterize objects.\n",
    "\n",
    "```python\n",
    "class Person:\n",
    "    def __init__(self, name):\n",
    "        self.name = name\n",
    "```"
   ]
  },
  {
   "cell_type": "markdown",
   "id": "6e666703",
   "metadata": {},
   "source": [
    "### What is an object in OOP\n",
    "\n",
    "**Answer:**\n",
    "\n",
    "An object is an instance of a class. It represents a real-world entity with state and behavior.\n",
    "\n",
    "```python\n",
    "p = Person('Alice')\n",
    "```"
   ]
  },
  {
   "cell_type": "markdown",
   "id": "852bd25a",
   "metadata": {},
   "source": [
    "### What is the difference between abstraction and encapsulation\n",
    "\n",
    "**Answer:**\n",
    "\n",
    "- **Abstraction** hides implementation details and exposes only essential features.\n",
    "- **Encapsulation** bundles data and methods inside a class and restricts direct access.\n",
    "\n",
    "Example:\n",
    "```python\n",
    "class Account:\n",
    "    def __init__(self, balance):\n",
    "        self.__balance = balance  # encapsulated\n",
    "    def get_balance(self):\n",
    "        return self.__balance\n",
    "```"
   ]
  },
  {
   "cell_type": "markdown",
   "id": "b7259805",
   "metadata": {},
   "source": [
    "### What are dunder methods in Python\n",
    "\n",
    "**Answer:**\n",
    "\n",
    "Dunder (double underscore) methods are special methods with `__name__` format that define object behavior.\n",
    "Examples: `__init__`, `__str__`, `__repr__`, `__add__`."
   ]
  },
  {
   "cell_type": "markdown",
   "id": "23f7165d",
   "metadata": {},
   "source": [
    "### Explain the concept of inheritance in OOP\n",
    "\n",
    "**Answer:**\n",
    "\n",
    "Inheritance allows a class to acquire attributes and methods of another class.\n",
    "\n",
    "```python\n",
    "class Animal:\n",
    "    def speak(self):\n",
    "        return 'Some sound'\n",
    "\n",
    "class Dog(Animal):\n",
    "    def speak(self):\n",
    "        return 'Bark!'\n",
    "```"
   ]
  },
  {
   "cell_type": "markdown",
   "id": "68e86151",
   "metadata": {},
   "source": [
    "### What is polymorphism in OOP\n",
    "\n",
    "**Answer:**\n",
    "\n",
    "Polymorphism means different classes can define methods with the same name but different behavior.\n",
    "\n",
    "```python\n",
    "animals = [Dog(), Animal()]\n",
    "for a in animals:\n",
    "    print(a.speak())\n",
    "```"
   ]
  },
  {
   "cell_type": "markdown",
   "id": "709f4101",
   "metadata": {},
   "source": [
    "### How is encapsulation achieved in Python\n",
    "\n",
    "**Answer:**\n",
    "\n",
    "By declaring attributes private with `_` or `__`, and providing getters/setters.\n",
    "\n",
    "```python\n",
    "class Bank:\n",
    "    def __init__(self):\n",
    "        self.__balance = 0\n",
    "```"
   ]
  },
  {
   "cell_type": "markdown",
   "id": "d8723c58",
   "metadata": {},
   "source": [
    "### What is a constructor in Python\n",
    "\n",
    "**Answer:**\n",
    "\n",
    "A constructor is a special method `__init__` used to initialize objects when created."
   ]
  },
  {
   "cell_type": "markdown",
   "id": "771cc869",
   "metadata": {},
   "source": [
    "### What are class and static methods in Python\n",
    "\n",
    "**Answer:**\n",
    "\n",
    "- **Class method**: Defined with `@classmethod`, receives class as argument.\n",
    "- **Static method**: Defined with `@staticmethod`, no implicit arguments.\n",
    "\n",
    "```python\n",
    "class Math:\n",
    "    @classmethod\n",
    "    def cls_info(cls): return cls\n",
    "    @staticmethod\n",
    "    def add(a,b): return a+b\n",
    "```"
   ]
  },
  {
   "cell_type": "markdown",
   "id": "d910e1a8",
   "metadata": {},
   "source": [
    "### What is method overloading in Python\n",
    "\n",
    "**Answer:**\n",
    "\n",
    "Python does not support traditional method overloading, but default arguments or `*args` can simulate it."
   ]
  },
  {
   "cell_type": "markdown",
   "id": "1ad6d0d0",
   "metadata": {},
   "source": [
    "### What is method overriding in OOP\n",
    "\n",
    "**Answer:**\n",
    "\n",
    "When a subclass provides a specific implementation of a method already defined in parent class."
   ]
  },
  {
   "cell_type": "markdown",
   "id": "f38afe4b",
   "metadata": {},
   "source": [
    "### What is a property decorator in Python\n",
    "\n",
    "**Answer:**\n",
    "\n",
    "`@property` turns a method into an attribute-like accessor.\n",
    "\n",
    "```python\n",
    "class Person:\n",
    "    def __init__(self, age): self._age = age\n",
    "    @property\n",
    "    def age(self): return self._age\n",
    "```"
   ]
  },
  {
   "cell_type": "markdown",
   "id": "829123d0",
   "metadata": {},
   "source": [
    "### Why is polymorphism important in OOP\n",
    "\n",
    "**Answer:**\n",
    "\n",
    "It allows code reusability, flexibility, and the ability to handle different object types with a uniform interface."
   ]
  },
  {
   "cell_type": "markdown",
   "id": "2790ff45",
   "metadata": {},
   "source": [
    "### What is an abstract class in Python\n",
    "\n",
    "**Answer:**\n",
    "\n",
    "A class with one or more abstract methods declared using `abc` module, cannot be instantiated directly."
   ]
  },
  {
   "cell_type": "markdown",
   "id": "74d8933c",
   "metadata": {},
   "source": [
    "### What are the advantages of OOP\n",
    "\n",
    "**Answer:**\n",
    "\n",
    "- Modularity, Reusability, Extensibility, Maintainability."
   ]
  },
  {
   "cell_type": "markdown",
   "id": "eb806b75",
   "metadata": {},
   "source": [
    "### What is the difference between a class variable and an instance variable\n",
    "\n",
    "**Answer:**\n",
    "\n",
    "- Class variable: shared across all objects.\n",
    "- Instance variable: unique to each object."
   ]
  },
  {
   "cell_type": "markdown",
   "id": "51167f21",
   "metadata": {},
   "source": [
    "### What is multiple inheritance in Python\n",
    "\n",
    "**Answer:**\n",
    "\n",
    "A class can inherit from multiple classes.\n",
    "\n",
    "```python\n",
    "class A: pass\n",
    "class B: pass\n",
    "class C(A,B): pass\n",
    "```"
   ]
  },
  {
   "cell_type": "markdown",
   "id": "0da140da",
   "metadata": {},
   "source": [
    "### Explain the purpose of `__str__` and `__repr__` methods in Python\n",
    "\n",
    "**Answer:**\n",
    "\n",
    "`__str__`: User-friendly string representation.\n",
    "`__repr__`: Developer/debug representation."
   ]
  },
  {
   "cell_type": "markdown",
   "id": "8058240c",
   "metadata": {},
   "source": [
    "### What is the significance of the `super()` function in Python\n",
    "\n",
    "**Answer:**\n",
    "\n",
    "`super()` is used to call methods of the parent class, commonly in constructors."
   ]
  },
  {
   "cell_type": "markdown",
   "id": "26f475be",
   "metadata": {},
   "source": [
    "### What is the significance of the `__del__` method in Python\n",
    "\n",
    "**Answer:**\n",
    "\n",
    "Destructor method, called when an object is about to be destroyed."
   ]
  },
  {
   "cell_type": "markdown",
   "id": "6d014fe4",
   "metadata": {},
   "source": [
    "### What is the difference between @staticmethod and @classmethod in Python\n",
    "\n",
    "**Answer:**\n",
    "\n",
    "- `@staticmethod`: no access to class or instance.\n",
    "- `@classmethod`: access to class but not instance."
   ]
  },
  {
   "cell_type": "markdown",
   "id": "baa7ad57",
   "metadata": {},
   "source": [
    "### How does polymorphism work in Python with inheritance\n",
    "\n",
    "**Answer:**\n",
    "\n",
    "By overriding methods in child classes, parent references can call the appropriate version."
   ]
  },
  {
   "cell_type": "markdown",
   "id": "8460e07b",
   "metadata": {},
   "source": [
    "### What is method chaining in Python OOP\n",
    "\n",
    "**Answer:**\n",
    "\n",
    "Returning `self` from methods allows chaining multiple method calls.\n",
    "\n",
    "```python\n",
    "class Builder:\n",
    "    def step(self): print('step'); return self\n",
    "```"
   ]
  },
  {
   "cell_type": "markdown",
   "id": "3c557ed5",
   "metadata": {},
   "source": [
    "### What is the purpose of the `__call__` method in Python?\n",
    "\n",
    "**Answer:**\n",
    "\n",
    "Makes an object callable like a function.\n",
    "\n",
    "```python\n",
    "class Adder:\n",
    "    def __call__(self,a,b): return a+b\n",
    "add = Adder(); print(add(2,3))\n",
    "```"
   ]
  },
  {
   "cell_type": "markdown",
   "id": "23179440",
   "metadata": {},
   "source": [
    "### Practical 1\n",
    "\n",
    "**Animal/Dog inheritance**"
   ]
  },
  {
   "cell_type": "code",
   "execution_count": 1,
   "id": "3769bd8f",
   "metadata": {},
   "outputs": [
    {
     "name": "stdout",
     "output_type": "stream",
     "text": [
      "Bark!\n"
     ]
    }
   ],
   "source": [
    "class Animal:\n",
    "    def speak(self):\n",
    "        return 'Some sound'\n",
    "\n",
    "class Dog(Animal):\n",
    "    def speak(self):\n",
    "        return 'Bark!'\n",
    "\n",
    "d = Dog()\n",
    "print(d.speak())"
   ]
  },
  {
   "cell_type": "markdown",
   "id": "6426d163",
   "metadata": {},
   "source": [
    "### Practical 2\n",
    "\n",
    "**Abstract class Shape**"
   ]
  },
  {
   "cell_type": "code",
   "execution_count": 2,
   "id": "aaffa78d",
   "metadata": {},
   "outputs": [
    {
     "name": "stdout",
     "output_type": "stream",
     "text": [
      "78.53981633974483\n",
      "24\n"
     ]
    }
   ],
   "source": [
    "from abc import ABC, abstractmethod\n",
    "import math\n",
    "\n",
    "class Shape(ABC):\n",
    "    @abstractmethod\n",
    "    def area(self): pass\n",
    "\n",
    "class Circle(Shape):\n",
    "    def __init__(self,r): self.r=r\n",
    "    def area(self): return math.pi*self.r**2\n",
    "\n",
    "class Rectangle(Shape):\n",
    "    def __init__(self,w,h): self.w=w; self.h=h\n",
    "    def area(self): return self.w*self.h\n",
    "\n",
    "print(Circle(5).area())\n",
    "print(Rectangle(4,6).area())"
   ]
  },
  {
   "cell_type": "markdown",
   "id": "1f26bf2e",
   "metadata": {},
   "source": [
    "### Practical 3\n",
    "\n",
    "**Multi-level inheritance Vehicle/Car/ElectricCar**"
   ]
  },
  {
   "cell_type": "code",
   "execution_count": 3,
   "id": "4ba37714",
   "metadata": {},
   "outputs": [
    {
     "name": "stdout",
     "output_type": "stream",
     "text": [
      "4-wheeler Tesla 100kWh\n"
     ]
    }
   ],
   "source": [
    "class Vehicle:\n",
    "    def __init__(self, type): self.type=type\n",
    "class Car(Vehicle):\n",
    "    def __init__(self,type,model): super().__init__(type); self.model=model\n",
    "class ElectricCar(Car):\n",
    "    def __init__(self,type,model,battery): super().__init__(type,model); self.battery=battery\n",
    "\n",
    "e=ElectricCar('4-wheeler','Tesla','100kWh')\n",
    "print(e.type,e.model,e.battery)"
   ]
  },
  {
   "cell_type": "markdown",
   "id": "e25b8bd8",
   "metadata": {},
   "source": [
    "### Practical 4\n",
    "\n",
    "**Polymorphism Bird**"
   ]
  },
  {
   "cell_type": "code",
   "execution_count": 4,
   "id": "6817976e",
   "metadata": {},
   "outputs": [
    {
     "name": "stdout",
     "output_type": "stream",
     "text": [
      "Sparrow flying\n",
      "Penguins cannot fly\n"
     ]
    }
   ],
   "source": [
    "class Bird:\n",
    "    def fly(self): return 'Some flight'\n",
    "class Sparrow(Bird):\n",
    "    def fly(self): return 'Sparrow flying'\n",
    "class Penguin(Bird):\n",
    "    def fly(self): return 'Penguins cannot fly'\n",
    "\n",
    "for b in [Sparrow(), Penguin()]:\n",
    "    print(b.fly())"
   ]
  },
  {
   "cell_type": "markdown",
   "id": "51d330c1",
   "metadata": {},
   "source": [
    "### Practical 5\n",
    "\n",
    "**Encapsulation BankAccount**"
   ]
  },
  {
   "cell_type": "code",
   "execution_count": 5,
   "id": "0f02a870",
   "metadata": {},
   "outputs": [
    {
     "name": "stdout",
     "output_type": "stream",
     "text": [
      "120\n"
     ]
    }
   ],
   "source": [
    "class BankAccount:\n",
    "    def __init__(self,balance=0): self.__balance=balance\n",
    "    def deposit(self,amt): self.__balance+=amt\n",
    "    def withdraw(self,amt):\n",
    "        if amt<=self.__balance: self.__balance-=amt\n",
    "        else: print('Insufficient funds')\n",
    "    def get_balance(self): return self.__balance\n",
    "\n",
    "acc=BankAccount(100)\n",
    "acc.deposit(50); acc.withdraw(30)\n",
    "print(acc.get_balance())"
   ]
  },
  {
   "cell_type": "markdown",
   "id": "fbffd11c",
   "metadata": {},
   "source": [
    "### Practical 6\n",
    "\n",
    "**Runtime polymorphism Instrument**"
   ]
  },
  {
   "cell_type": "code",
   "execution_count": 6,
   "id": "99f55a16",
   "metadata": {},
   "outputs": [
    {
     "name": "stdout",
     "output_type": "stream",
     "text": [
      "Strum\n",
      "Piano sound\n"
     ]
    }
   ],
   "source": [
    "class Instrument:\n",
    "    def play(self): return 'Generic sound'\n",
    "class Guitar(Instrument):\n",
    "    def play(self): return 'Strum'\n",
    "class Piano(Instrument):\n",
    "    def play(self): return 'Piano sound'\n",
    "\n",
    "for inst in [Guitar(), Piano()]:\n",
    "    print(inst.play())"
   ]
  },
  {
   "cell_type": "markdown",
   "id": "092c5696",
   "metadata": {},
   "source": [
    "### Practical 7\n",
    "\n",
    "**MathOperations**"
   ]
  },
  {
   "cell_type": "code",
   "execution_count": 7,
   "id": "4b0297e8",
   "metadata": {},
   "outputs": [
    {
     "name": "stdout",
     "output_type": "stream",
     "text": [
      "7\n",
      "6\n"
     ]
    }
   ],
   "source": [
    "class MathOperations:\n",
    "    @classmethod\n",
    "    def add_numbers(cls,a,b): return a+b\n",
    "    @staticmethod\n",
    "    def subtract_numbers(a,b): return a-b\n",
    "\n",
    "print(MathOperations.add_numbers(3,4))\n",
    "print(MathOperations.subtract_numbers(10,4))"
   ]
  },
  {
   "cell_type": "markdown",
   "id": "a45a889a",
   "metadata": {},
   "source": [
    "### Practical 8\n",
    "\n",
    "**Person counter**"
   ]
  },
  {
   "cell_type": "code",
   "execution_count": 8,
   "id": "0f56cc00",
   "metadata": {},
   "outputs": [
    {
     "name": "stdout",
     "output_type": "stream",
     "text": [
      "2\n"
     ]
    }
   ],
   "source": [
    "class Person:\n",
    "    count=0\n",
    "    def __init__(self,name): self.name=name; Person.count+=1\n",
    "    @classmethod\n",
    "    def total(cls): return cls.count\n",
    "\n",
    "p1=Person('A'); p2=Person('B')\n",
    "print(Person.total())"
   ]
  },
  {
   "cell_type": "markdown",
   "id": "5664e821",
   "metadata": {},
   "source": [
    "### Practical 9\n",
    "\n",
    "**Fraction**"
   ]
  },
  {
   "cell_type": "code",
   "execution_count": 9,
   "id": "cc5061fb",
   "metadata": {},
   "outputs": [
    {
     "name": "stdout",
     "output_type": "stream",
     "text": [
      "3/4\n"
     ]
    }
   ],
   "source": [
    "class Fraction:\n",
    "    def __init__(self,num,den): self.num=num; self.den=den\n",
    "    def __str__(self): return f\"{self.num}/{self.den}\"\n",
    "\n",
    "print(Fraction(3,4))"
   ]
  },
  {
   "cell_type": "markdown",
   "id": "4e396caf",
   "metadata": {},
   "source": [
    "### Practical 10\n",
    "\n",
    "**Vector addition overloading**"
   ]
  },
  {
   "cell_type": "code",
   "execution_count": 10,
   "id": "6fe5b8bb",
   "metadata": {},
   "outputs": [
    {
     "name": "stdout",
     "output_type": "stream",
     "text": [
      "(4,6)\n"
     ]
    }
   ],
   "source": [
    "class Vector:\n",
    "    def __init__(self,x,y): self.x=x; self.y=y\n",
    "    def __add__(self,other): return Vector(self.x+other.x,self.y+other.y)\n",
    "    def __str__(self): return f\"({self.x},{self.y})\"\n",
    "\n",
    "v1=Vector(1,2); v2=Vector(3,4)\n",
    "print(v1+v2)"
   ]
  },
  {
   "cell_type": "markdown",
   "id": "fe8fde3a",
   "metadata": {},
   "source": [
    "### Practical 11\n",
    "\n",
    "**Person greet**"
   ]
  },
  {
   "cell_type": "code",
   "execution_count": 11,
   "id": "2f110ff3",
   "metadata": {},
   "outputs": [
    {
     "name": "stdout",
     "output_type": "stream",
     "text": [
      "Hello, my name is Alice and I am 30 years old.\n"
     ]
    }
   ],
   "source": [
    "class Person:\n",
    "    def __init__(self,name,age): self.name=name; self.age=age\n",
    "    def greet(self): print(f\"Hello, my name is {self.name} and I am {self.age} years old.\")\n",
    "\n",
    "Person('Alice',30).greet()"
   ]
  },
  {
   "cell_type": "markdown",
   "id": "568c5647",
   "metadata": {},
   "source": [
    "### Practical 12\n",
    "\n",
    "**Student average**"
   ]
  },
  {
   "cell_type": "code",
   "execution_count": 12,
   "id": "55af9d79",
   "metadata": {},
   "outputs": [
    {
     "name": "stdout",
     "output_type": "stream",
     "text": [
      "80.0\n"
     ]
    }
   ],
   "source": [
    "class Student:\n",
    "    def __init__(self,name,grades): self.name=name; self.grades=grades\n",
    "    def average_grade(self): return sum(self.grades)/len(self.grades)\n",
    "\n",
    "print(Student('Bob',[80,90,70]).average_grade())"
   ]
  },
  {
   "cell_type": "markdown",
   "id": "1c2a4294",
   "metadata": {},
   "source": [
    "### Practical 13\n",
    "\n",
    "**Rectangle area**"
   ]
  },
  {
   "cell_type": "code",
   "execution_count": 13,
   "id": "d78accb8",
   "metadata": {},
   "outputs": [
    {
     "name": "stdout",
     "output_type": "stream",
     "text": [
      "30\n"
     ]
    }
   ],
   "source": [
    "class Rectangle:\n",
    "    def set_dimensions(self,w,h): self.w=w; self.h=h\n",
    "    def area(self): return self.w*self.h\n",
    "\n",
    "r=Rectangle(); r.set_dimensions(5,6)\n",
    "print(r.area())"
   ]
  },
  {
   "cell_type": "markdown",
   "id": "d1f00d07",
   "metadata": {},
   "source": [
    "### Practical 14\n",
    "\n",
    "**Employee/Manager salary**"
   ]
  },
  {
   "cell_type": "code",
   "execution_count": 14,
   "id": "f86dfd6c",
   "metadata": {},
   "outputs": [
    {
     "name": "stdout",
     "output_type": "stream",
     "text": [
      "1000\n"
     ]
    }
   ],
   "source": [
    "class Employee:\n",
    "    def calculate_salary(self,hours,rate): return hours*rate\n",
    "class Manager(Employee):\n",
    "    def calculate_salary(self,hours,rate,bonus): return super().calculate_salary(hours,rate)+bonus\n",
    "\n",
    "m=Manager(); print(m.calculate_salary(40,20,200))"
   ]
  },
  {
   "cell_type": "markdown",
   "id": "6bd5668d",
   "metadata": {},
   "source": [
    "### Practical 15\n",
    "\n",
    "**Product total price**"
   ]
  },
  {
   "cell_type": "code",
   "execution_count": 15,
   "id": "c8d05629",
   "metadata": {},
   "outputs": [
    {
     "name": "stdout",
     "output_type": "stream",
     "text": [
      "50\n"
     ]
    }
   ],
   "source": [
    "class Product:\n",
    "    def __init__(self,name,price,qty): self.name=name; self.price=price; self.qty=qty\n",
    "    def total_price(self): return self.price*self.qty\n",
    "\n",
    "p=Product('Pen',10,5)\n",
    "print(p.total_price())"
   ]
  },
  {
   "cell_type": "markdown",
   "id": "c74ae976",
   "metadata": {},
   "source": [
    "### Practical 16\n",
    "\n",
    "**Abstract Animal**"
   ]
  },
  {
   "cell_type": "code",
   "execution_count": 16,
   "id": "fe385e5f",
   "metadata": {},
   "outputs": [
    {
     "name": "stdout",
     "output_type": "stream",
     "text": [
      "Moo\n",
      "Baa\n"
     ]
    }
   ],
   "source": [
    "from abc import ABC,abstractmethod\n",
    "class Animal(ABC):\n",
    "    @abstractmethod\n",
    "    def sound(self): pass\n",
    "class Cow(Animal):\n",
    "    def sound(self): return 'Moo'\n",
    "class Sheep(Animal):\n",
    "    def sound(self): return 'Baa'\n",
    "\n",
    "for a in [Cow(),Sheep()]:\n",
    "    print(a.sound())"
   ]
  },
  {
   "cell_type": "markdown",
   "id": "c172d327",
   "metadata": {},
   "source": [
    "### Practical 17\n",
    "\n",
    "**Book info**"
   ]
  },
  {
   "cell_type": "code",
   "execution_count": 17,
   "id": "29cefb28",
   "metadata": {},
   "outputs": [
    {
     "name": "stdout",
     "output_type": "stream",
     "text": [
      "1984 by Orwell, 1949\n"
     ]
    }
   ],
   "source": [
    "class Book:\n",
    "    def __init__(self,title,author,year): self.title=title; self.author=author; self.year=year\n",
    "    def get_book_info(self): return f\"{self.title} by {self.author}, {self.year}\"\n",
    "\n",
    "print(Book('1984','Orwell',1949).get_book_info())"
   ]
  },
  {
   "cell_type": "markdown",
   "id": "91e18c2e",
   "metadata": {},
   "source": [
    "### Practical 18\n",
    "\n",
    "**House/Mansion**"
   ]
  },
  {
   "cell_type": "code",
   "execution_count": 18,
   "id": "6a9dde25",
   "metadata": {},
   "outputs": [
    {
     "name": "stdout",
     "output_type": "stream",
     "text": [
      "123 St 1000000 10\n"
     ]
    }
   ],
   "source": [
    "class House:\n",
    "    def __init__(self,address,price): self.address=address; self.price=price\n",
    "class Mansion(House):\n",
    "    def __init__(self,address,price,rooms): super().__init__(address,price); self.rooms=rooms\n",
    "\n",
    "m=Mansion('123 St',1000000,10)\n",
    "print(m.address,m.price,m.rooms)"
   ]
  }
 ],
 "metadata": {
  "kernelspec": {
   "display_name": "Python 3",
   "language": "python",
   "name": "python3"
  },
  "language_info": {
   "codemirror_mode": {
    "name": "ipython",
    "version": 3
   },
   "file_extension": ".py",
   "mimetype": "text/x-python",
   "name": "python",
   "nbconvert_exporter": "python",
   "pygments_lexer": "ipython3",
   "version": "3.13.7"
  }
 },
 "nbformat": 4,
 "nbformat_minor": 5
}
