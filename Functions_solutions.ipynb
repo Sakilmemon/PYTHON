{
 "cells": [
  {
   "cell_type": "markdown",
   "id": "e8f1bbb0",
   "metadata": {},
   "source": [
    "# Functions — Solutions"
   ]
  },
  {
   "cell_type": "markdown",
   "id": "47a33f1b",
   "metadata": {},
   "source": [
    "## Theory Questions — Answers\n",
    "\n",
    "---\n",
    "\n",
    "### 1. What is the difference between a function and a method in Python?\n",
    "- **Function:** A named block of reusable code defined with `def` or created as a `lambda`. It is independent and can be called by its name.\n",
    "  - Example: `def add(a, b): return a + b`\n",
    "- **Method:** A function that is attached to an object (defined inside a class). It is called on an instance or class.\n",
    "  - Example:\n",
    "```python\n",
    "class A:\n",
    "    def greet(self):\n",
    "        return \"hello\"\n",
    "\n",
    "a = A()\n",
    "a.greet()  # method call\n",
    "```\n",
    "\n",
    "---\n",
    "\n",
    "### 2. Explain the concept of function arguments and parameters in Python.\n",
    "- **Parameters** are variable names in a function definition.\n",
    "- **Arguments** are the actual values passed to the function when calling it.\n",
    "- Example:\n",
    "```python\n",
    "def f(x, y=2):  # x,y are parameters; y has default value 2\n",
    "    return x + y\n",
    "\n",
    "f(3, 4)  # 3 and 4 are arguments\n",
    "f(5)     # 5 is argument; y uses default 2\n",
    "```\n",
    "\n",
    "---\n",
    "\n",
    "### 3. What are the different ways to define and call a function in Python?\n",
    "- Define with `def` (named functions), `lambda` (anonymous), and via `functools.partial` (partials).\n",
    "- Call by using the function name with parentheses: `f()`, `f(1,2)`, `obj.method()`.\n",
    "- Example:\n",
    "```python\n",
    "add = lambda a,b: a+b\n",
    "def mul(a,b): return a*b\n",
    "```\n",
    "\n",
    "---\n",
    "\n",
    "### 4. What is the purpose of the `return` statement in a Python function?\n",
    "- `return` sends a value back to the caller. If omitted, function returns `None`.\n",
    "- Example:\n",
    "```python\n",
    "def square(x):\n",
    "    return x*x\n",
    "\n",
    "res = square(4)  # res == 16\n",
    "```\n",
    "\n",
    "---\n",
    "\n",
    "### 5. What are iterators in Python and how do they differ from iterables?\n",
    "- **Iterable:** An object that can return an iterator (implements `__iter__()`), e.g., list, tuple, string.\n",
    "- **Iterator:** An object with `__next__()` method that yields values one by one and raises `StopIteration` when done.\n",
    "- Example:\n",
    "```python\n",
    "it = iter([1,2,3])  # it is an iterator\n",
    "next(it)  # 1\n",
    "```\n",
    "\n",
    "---\n",
    "\n",
    "### 6. Explain the concept of generators in Python and how they are defined.\n",
    "- **Generator:** A special function that yields values using `yield`. It returns an iterator which computes values lazily.\n",
    "- Example:\n",
    "```python\n",
    "def gen(n):\n",
    "    for i in range(n):\n",
    "        yield i*i\n",
    "```\n",
    "\n",
    "---\n",
    "\n",
    "### 7. What are the advantages of using generators over regular functions?\n",
    "- Memory efficient (produce values on the fly), can represent infinite sequences, lazy evaluation, usually simpler state management than classes.\n",
    "- Example: generating a million numbers with a generator uses far less memory than building a list with a million elements.\n",
    "\n",
    "---\n",
    "\n",
    "### 8. What is a lambda function in Python and when is it typically used?\n",
    "- A small anonymous function written as `lambda args: expression`.\n",
    "- Typically used for short, throwaway functions (e.g., key functions in `sort`, `map`, `filter`).\n",
    "- Example: `sorted(items, key=lambda x: x[1])`\n",
    "\n",
    "---\n",
    "\n",
    "### 9. Explain the purpose and usage of the `map()` function in Python.\n",
    "- `map(function, iterable, ...)` applies `function` to each item of the iterable(s) and returns an iterator of results.\n",
    "- Example: `list(map(lambda x: x*2, [1,2,3]))  # [2,4,6]`\n",
    "\n",
    "---\n",
    "\n",
    "### 10. What is the difference between `map()`, `reduce()`, and `filter()` functions in Python?\n",
    "- `map`: transforms each element in iterable(s).\n",
    "- `filter`: retains elements where the predicate is True.\n",
    "- `reduce` (from `functools`): combines elements pairwise to a single value using a binary function.\n",
    "- Example:\n",
    "```python\n",
    "from functools import reduce\n",
    "reduce(lambda a,b: a+b, [1,2,3])  # 6\n",
    "list(filter(lambda x: x%2==0, [1,2,3,4]))  # [2,4]\n",
    "```\n",
    "\n",
    "---\n",
    "\n",
    "### 11. Internal mechanism for sum using `reduce` on list [47,11,42,13]\n",
    "We can show step-by-step application of `reduce`:\n",
    "- Step 1: combine 47 and 11 -> 58\n",
    "- Step 2: combine 58 and 42 -> 100\n",
    "- Step 3: combine 100 and 13 -> 113\n",
    "This is equivalent to `sum([47,11,42,13])`. Example in code cell below.\n"
   ]
  },
  {
   "cell_type": "code",
   "execution_count": null,
   "id": "701fc33a",
   "metadata": {},
   "outputs": [],
   "source": [
    "from functools import reduce\n",
    "\n",
    "lst = [47, 11, 42, 13]\n",
    "\n",
    "def step_reduce(a, b):\n",
    "    print(f\"combine {a} + {b} = {a+b}\")\n",
    "    return a + b\n",
    "\n",
    "print(\"Reduce steps:\")\n",
    "result = reduce(step_reduce, lst)\n",
    "print(\"Final result:\", result)\n"
   ]
  },
  {
   "cell_type": "markdown",
   "id": "aee9444f",
   "metadata": {},
   "source": [
    "## Practical Questions — Solutions (runnable code)\n",
    "\n",
    "Each question is followed by a solution and a short test."
   ]
  },
  {
   "cell_type": "markdown",
   "id": "7e7e88f5",
   "metadata": {},
   "source": [
    "### Practical 1 — Sum of all even numbers in a list\n",
    "\n",
    "**Function:** `sum_even(numbers: list) -> int`"
   ]
  },
  {
   "cell_type": "code",
   "execution_count": null,
   "id": "78550b02",
   "metadata": {},
   "outputs": [],
   "source": [
    "def sum_even(numbers):\n",
    "    return sum(x for x in numbers if x % 2 == 0)\n",
    "\n",
    "# Test\n",
    "print(sum_even([1,2,3,4,5,6]))  # expected 12 (2+4+6)\n"
   ]
  },
  {
   "cell_type": "markdown",
   "id": "97d0f491",
   "metadata": {},
   "source": [
    "### Practical 2 — Reverse a string\n",
    "\n",
    "**Function:** `reverse_string(s: str) -> str`"
   ]
  },
  {
   "cell_type": "code",
   "execution_count": null,
   "id": "6ebe1b42",
   "metadata": {},
   "outputs": [],
   "source": [
    "def reverse_string(s):\n",
    "    return s[::-1]\n",
    "\n",
    "# Test\n",
    "print(reverse_string('hello'))  # 'olleh'"
   ]
  },
  {
   "cell_type": "markdown",
   "id": "a3616448",
   "metadata": {},
   "source": [
    "### Practical 3 — Squares of each integer in a list\n",
    "\n",
    "**Function:** `squares(lst: list) -> list`"
   ]
  },
  {
   "cell_type": "code",
   "execution_count": null,
   "id": "fe5b67e4",
   "metadata": {},
   "outputs": [],
   "source": [
    "def squares(lst):\n",
    "    return [x*x for x in lst]\n",
    "\n",
    "print(squares([1,2,3,4]))  # [1,4,9,16]"
   ]
  },
  {
   "cell_type": "markdown",
   "id": "6f4b6baf",
   "metadata": {},
   "source": [
    "### Practical 4 — Check if a given number is prime (works for numbers from 1 to 200)\n",
    "\n",
    "**Function:** `is_prime(n: int) -> bool`"
   ]
  },
  {
   "cell_type": "code",
   "execution_count": null,
   "id": "24233e95",
   "metadata": {},
   "outputs": [],
   "source": [
    "def is_prime(n):\n",
    "    if n <= 1:\n",
    "        return False\n",
    "    if n <= 3:\n",
    "        return True\n",
    "    if n % 2 == 0:\n",
    "        return False\n",
    "    i = 3\n",
    "    while i * i <= n:\n",
    "        if n % i == 0:\n",
    "            return False\n",
    "        i += 2\n",
    "    return True\n",
    "\n",
    "# Test: list primes between 1 and 50\n",
    "print([n for n in range(1,51) if is_prime(n)])"
   ]
  },
  {
   "cell_type": "markdown",
   "id": "397b0953",
   "metadata": {},
   "source": [
    "### Practical 5 — Iterator class generating Fibonacci sequence up to specified number of terms"
   ]
  },
  {
   "cell_type": "code",
   "execution_count": null,
   "id": "8aa53f5a",
   "metadata": {},
   "outputs": [],
   "source": [
    "class FibonacciIterator:\n",
    "    def __init__(self, terms):\n",
    "        self.terms = terms\n",
    "        self.index = 0\n",
    "        self.a, self.b = 0, 1\n",
    "\n",
    "    def __iter__(self):\n",
    "        return self\n",
    "\n",
    "    def __next__(self):\n",
    "        if self.index >= self.terms:\n",
    "            raise StopIteration\n",
    "        val = self.a\n",
    "        self.a, self.b = self.b, self.a + self.b\n",
    "        self.index += 1\n",
    "        return val\n",
    "\n",
    "# Test: first 10 Fibonacci numbers\n",
    "print(list(FibonacciIterator(10)))  # [0,1,1,2,3,5,8,13,21,34]"
   ]
  },
  {
   "cell_type": "markdown",
   "id": "1a5cca97",
   "metadata": {},
   "source": [
    "### Practical 6 — Generator that yields powers of 2 up to given exponent"
   ]
  },
  {
   "cell_type": "code",
   "execution_count": null,
   "id": "b5714a0e",
   "metadata": {},
   "outputs": [],
   "source": [
    "def powers_of_two(n):\n",
    "    '''Yield 2**0, 2**1, ..., 2**n inclusive.'''\n",
    "    for e in range(n+1):\n",
    "        yield 2**e\n",
    "\n",
    "# Test\n",
    "print(list(powers_of_two(6)))  # [1,2,4,8,16,32,64]"
   ]
  },
  {
   "cell_type": "markdown",
   "id": "8d87e91f",
   "metadata": {},
   "source": [
    "### Practical 7 — Generator that reads a file line-by-line and yields each line\n",
    "\n",
    "(creates a small sample file and demonstrates the generator)"
   ]
  },
  {
   "cell_type": "code",
   "execution_count": null,
   "id": "e3fc0c45",
   "metadata": {},
   "outputs": [],
   "source": [
    "def file_line_generator(path):\n",
    "    with open(path, 'r', encoding='utf-8') as f:\n",
    "        for line in f:\n",
    "            yield line.rstrip('\\n')\n",
    "\n",
    "# Create a sample file and test the generator\n",
    "sample_path = '/mnt/data/sample_text.txt'\n",
    "with open(sample_path, 'w', encoding='utf-8') as f:\n",
    "    f.write('Line one\\nLine two\\nLine three\\n')\n",
    "\n",
    "for ln in file_line_generator(sample_path):\n",
    "    print(repr(ln))"
   ]
  },
  {
   "cell_type": "markdown",
   "id": "995fed57",
   "metadata": {},
   "source": [
    "### Practical 8 — Use lambda to sort a list of tuples based on the second element"
   ]
  },
  {
   "cell_type": "code",
   "execution_count": null,
   "id": "3a0c5e76",
   "metadata": {},
   "outputs": [],
   "source": [
    "items = [('a', 3), ('b', 1), ('c', 2)]\n",
    "sorted_items = sorted(items, key=lambda x: x[1])\n",
    "print(sorted_items)  # expected [('b',1), ('c',2), ('a',3)]"
   ]
  },
  {
   "cell_type": "markdown",
   "id": "737911a3",
   "metadata": {},
   "source": [
    "### Practical 9 — Convert list of temperatures from Celsius to Fahrenheit using `map()`\n",
    "\n",
    "Formula: `F = C * 9/5 + 32`"
   ]
  },
  {
   "cell_type": "code",
   "execution_count": null,
   "id": "c7ac279e",
   "metadata": {},
   "outputs": [],
   "source": [
    "temps_c = [0, 20, 37, 100]\n",
    "to_f = lambda c: c * 9/5 + 32\n",
    "temps_f = list(map(to_f, temps_c))\n",
    "print(temps_f)  # [32.0, 68.0, 98.6, 212.0]"
   ]
  },
  {
   "cell_type": "markdown",
   "id": "dcf3c8f4",
   "metadata": {},
   "source": [
    "### Practical 10 — Use `filter()` to remove all vowels from a given string"
   ]
  },
  {
   "cell_type": "code",
   "execution_count": null,
   "id": "5d1b9ebe",
   "metadata": {},
   "outputs": [],
   "source": [
    "def remove_vowels(s):\n",
    "    vowels = set('aeiouAEIOU')\n",
    "    return ''.join(filter(lambda ch: ch not in vowels, s))\n",
    "\n",
    "print(remove_vowels('Hello, world!'))  # 'Hll, wrld!'"
   ]
  },
  {
   "cell_type": "markdown",
   "id": "814cb474",
   "metadata": {},
   "source": [
    "### Practical 11 — Accounting routine for book-shop orders\n",
    "\n",
    "Given a list of orders where each order is like `[order_no, price_per_item, quantity]`, return a list of 2-tuples `(order_no, computed_total)` where computed total = price_per_item * quantity, and if < 100.00 then add 10.00.\n",
    "\n",
    "We implement solution using `map()` and `lambda`."
   ]
  },
  {
   "cell_type": "code",
   "execution_count": null,
   "id": "ee05b0f5",
   "metadata": {},
   "outputs": [],
   "source": [
    "orders = [\n",
    "    [1, 10.0, 2],   # total 20 -> add 10 -> 30\n",
    "    [2, 25.0, 4],   # total 100 -> no add -> 100\n",
    "    [3, 40.0, 3],   # total 120 -> no add -> 120\n",
    "    [4, 12.5, 7],   # total 87.5 -> add 10 -> 97.5\n",
    "]\n",
    "\n",
    "def adjust(order):\n",
    "    order_no, price, qty = order\n",
    "    total = price * qty\n",
    "    if total < 100.0:\n",
    "        total += 10.0\n",
    "    return (order_no, round(total, 2))\n",
    "\n",
    "# Using map + lambda (lambda wraps the adjust)\n",
    "result = list(map(lambda od: adjust(od), orders))\n",
    "print(result)\n",
    "# Expected: [(1,30.0),(2,100.0),(3,120.0),(4,97.5)]"
   ]
  }
 ],
 "metadata": {
  "language_info": {
   "name": "python"
  }
 },
 "nbformat": 4,
 "nbformat_minor": 5
}
